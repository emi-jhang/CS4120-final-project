{
 "cells": [
  {
   "cell_type": "code",
   "execution_count": 3,
   "id": "cbd3aa2d-909a-48d2-ad24-aa576aa496da",
   "metadata": {},
   "outputs": [
    {
     "name": "stdout",
     "output_type": "stream",
     "text": [
      "Intel MKL WARNING: Support of Intel(R) Streaming SIMD Extensions 4.2 (Intel(R) SSE4.2) enabled only processors has been deprecated. Intel oneAPI Math Kernel Library 2025.0 will require Intel(R) Advanced Vector Extensions (Intel(R) AVX) instructions.\n",
      "Intel MKL WARNING: Support of Intel(R) Streaming SIMD Extensions 4.2 (Intel(R) SSE4.2) enabled only processors has been deprecated. Intel oneAPI Math Kernel Library 2025.0 will require Intel(R) Advanced Vector Extensions (Intel(R) AVX) instructions.\n"
     ]
    }
   ],
   "source": [
    "# Imports\n",
    "\n",
    "import pandas as pd \n",
    "import numpy as np"
   ]
  },
  {
   "cell_type": "markdown",
   "id": "41e7209a-1c78-43a4-8901-9fb4a773a0fa",
   "metadata": {},
   "source": [
    "## Loading in Data"
   ]
  },
  {
   "cell_type": "markdown",
   "id": "305e9955-eed0-4709-8250-8fa24ec06147",
   "metadata": {},
   "source": [
    "https://www.inf.uni-hamburg.de/en/inst/ab/lt/resources/data/complex-word-identification-dataset.html"
   ]
  },
  {
   "cell_type": "markdown",
   "id": "4fa27143-2ccb-40dd-91fb-f05b4a0c4ee8",
   "metadata": {},
   "source": [
    "#### Explanation of data from Dataset Website (https://sites.google.com/view/cwisharedtask2018/datasets): \n",
    "\n",
    "Each line represents a sentence with one complex word annotation and relevant information, each separated by a TAB character.\n",
    "\n",
    "    The first column shows the HIT ID of the sentence. All sentences with the same ID belong to the same HIT.\n",
    "    The second column shows the actual sentence where there exists a complex phrase annotation.\n",
    "    The third and fourth columns display the start and end offsets of the target word in this sentence.\n",
    "    The fifth column represents the target word.\n",
    "    The sixth and seventh columns show the number of native annotators and the number of non-native annotators who saw the sentence.\n",
    "    The eighth and ninth columns show the number of native annotators and the number of non-native annotators who marked the target word as difficult.\n",
    "    The tenth and eleventh columns show the gold-standard label for the binary and probabilistic classification tasks.\n",
    "\n",
    "The labels in the binary classification task were assigned in the following manner:\n",
    "\n",
    "    0: simple word (none of the annotators marked the word as difficult)\n",
    "    1: complex word (at least one annotator marked the word as difficult)\n",
    "\n",
    "The labels in the probabilistic classification task were assigned as the \\<number of annotators who marked the word as difficult\\>/\\<the total number of annotators\\>"
   ]
  },
  {
   "cell_type": "code",
   "execution_count": 5,
   "id": "e3c64952-b181-4c80-99a9-008dc459f96e",
   "metadata": {},
   "outputs": [],
   "source": [
    "wikipedia_train = pd.read_csv('../CWID_train/Wikipedia_Train.csv')\n",
    "wikipedia_dev = pd.read_csv('../CWID_train/Wikipedia_Dev.csv')\n",
    "wikipedia_test = pd.read_csv('../CWID_test/Wikipedia_Test.csv')\n",
    "news_train = pd.read_csv('../CWID_train/News_Train.csv')\n",
    "news_dev = pd.read_csv('../CWID_train/News_Dev.csv')\n",
    "news_test = pd.read_csv('../CWID_test/News_Test.csv')"
   ]
  },
  {
   "cell_type": "markdown",
   "id": "4b57fb31-76bd-42d8-b5b1-5873779ec4ee",
   "metadata": {},
   "source": [
    "## Data Cleaning"
   ]
  },
  {
   "cell_type": "code",
   "execution_count": 7,
   "id": "a00ccf1f-1761-4d26-bd48-485de7356c0d",
   "metadata": {},
   "outputs": [
    {
     "name": "stdout",
     "output_type": "stream",
     "text": [
      "Wikipedia train\n",
      "(5551, 11)\n",
      "                           hit_id  \\\n",
      "0  3XU9MCX6VODXPI3L8I02CM94TFB2R7   \n",
      "1  3XU9MCX6VODXPI3L8I02CM94TFB2R7   \n",
      "\n",
      "                                            sentence  start  end target_word  \\\n",
      "0  Normally , the land will be passed down to fut...      0    8    Normally   \n",
      "1  Normally , the land will be passed down to fut...     28   34      passed   \n",
      "\n",
      "   native_seen  non_native_seen  native_diff  non_native_diff  binary  \\\n",
      "0           10               10            0                1       1   \n",
      "1           10               10            0                1       1   \n",
      "\n",
      "   probabilistic  \n",
      "0           0.05  \n",
      "1           0.05  \n",
      "Wikipedia dev\n",
      "(694, 11)\n",
      "                           hit_id  \\\n",
      "0  3QI9WAYOGQCX8YMZA9CAS9VCVMWS62   \n",
      "1  3QI9WAYOGQCX8YMZA9CAS9VCVMWS62   \n",
      "\n",
      "                                            sentence  start  end  \\\n",
      "0  The tail of Epidexipteryx also bore unusual ve...      4    8   \n",
      "1  The tail of Epidexipteryx also bore unusual ve...     12   25   \n",
      "\n",
      "     target_word  native_seen  non_native_seen  native_diff  non_native_diff  \\\n",
      "0           tail           10               10            0                2   \n",
      "1  Epidexipteryx           10               10            6                3   \n",
      "\n",
      "   binary  probabilistic  \n",
      "0       1           0.10  \n",
      "1       1           0.45  \n",
      "Wikipedia test\n",
      "(870, 11)\n",
      "                           hit_id  \\\n",
      "0  3NFWQRSHVEFQ1M6JG2LXX1PM0A5FG8   \n",
      "1  3NFWQRSHVEFQ1M6JG2LXX1PM0A5FG8   \n",
      "\n",
      "                                            sentence  start  end target_word  \\\n",
      "0  Toronto traded Stewart to Chicago early in the...      8   14      traded   \n",
      "1  Toronto traded Stewart to Chicago early in the...      0    7     Toronto   \n",
      "\n",
      "   native_seen  non_native_seen  native_diff  non_native_diff  binary  \\\n",
      "0           10               10            1                3       1   \n",
      "1           10               10            0                0       0   \n",
      "\n",
      "   probabilistic  \n",
      "0            0.2  \n",
      "1            0.0  \n",
      "News train\n",
      "(14002, 11)\n",
      "                           hit_id  \\\n",
      "0  3P7RGTLO6EE07HLUVDKKHS6O7CCKA5   \n",
      "1  3P7RGTLO6EE07HLUVDKKHS6O7CCKA5   \n",
      "\n",
      "                                            sentence  start  end  \\\n",
      "0  The barren islands, reefs and coral outcrops a...      4   10   \n",
      "1  The barren islands, reefs and coral outcrops a...      4   18   \n",
      "\n",
      "      target_word  native_seen  non_native_seen  native_diff  non_native_diff  \\\n",
      "0          barren           10               10            6                2   \n",
      "1  barren islands           10               10            0                1   \n",
      "\n",
      "   binary  probabilistic  \n",
      "0       1           0.40  \n",
      "1       1           0.05  \n",
      "News dev\n",
      "(1764, 11)\n",
      "                           hit_id  \\\n",
      "0  3Z8UJEJOCZEG603II1EL4BE2PV593A   \n",
      "1  3Z8UJEJOCZEG603II1EL4BE2PV593A   \n",
      "\n",
      "                                            sentence  start  end target_word  \\\n",
      "0  Syrian troops shelled a rebel-held town on Mon...      7   13      troops   \n",
      "1  Syrian troops shelled a rebel-held town on Mon...      0    6      Syrian   \n",
      "\n",
      "   native_seen  non_native_seen  native_diff  non_native_diff  binary  \\\n",
      "0           10               10            0                0       0   \n",
      "1           10               10            0                0       0   \n",
      "\n",
      "   probabilistic  \n",
      "0            0.0  \n",
      "1            0.0  \n",
      "News test\n",
      "(2095, 11)\n",
      "                           hit_id  \\\n",
      "0  30OITAWPBQ4V08AHXM3N85FC9DQ9HB   \n",
      "1  30OITAWPBQ4V08AHXM3N85FC9DQ9HB   \n",
      "\n",
      "                                            sentence  start  end  \\\n",
      "0  The teenage girl shot dead in Bellaghy, County...      4   11   \n",
      "1  The teenage girl shot dead in Bellaghy, County...      4   16   \n",
      "\n",
      "    target_word  native_seen  non_native_seen  native_diff  non_native_diff  \\\n",
      "0       teenage           10               10            0                0   \n",
      "1  teenage girl           10               10            0                0   \n",
      "\n",
      "   binary  probabilistic  \n",
      "0       0            0.0  \n",
      "1       0            0.0  \n"
     ]
    }
   ],
   "source": [
    "# TODO: \n",
    "# Clean Data\n",
    "# Get dimensions, summary, etc. of data\n",
    "\n",
    "print(\"Wikipedia train\")\n",
    "print(wikipedia_train.shape)\n",
    "print(wikipedia_train.head(2))\n",
    "\n",
    "print(\"Wikipedia dev\")\n",
    "print(wikipedia_dev.shape)\n",
    "print(wikipedia_dev.head(2))\n",
    "\n",
    "print(\"Wikipedia test\")\n",
    "print(wikipedia_test.shape)\n",
    "print(wikipedia_test.head(2))\n",
    "\n",
    "print(\"News train\")\n",
    "print(news_train.shape)\n",
    "print(news_train.head(2))\n",
    "\n",
    "print(\"News dev\")\n",
    "print(news_dev.shape)\n",
    "print(news_dev.head(2))\n",
    "\n",
    "print(\"News test\")\n",
    "print(news_test.shape)\n",
    "print(news_test.head(2))"
   ]
  },
  {
   "cell_type": "code",
   "execution_count": null,
   "id": "169e22b3-be87-45c9-8a80-03273f8a470e",
   "metadata": {},
   "outputs": [],
   "source": []
  },
  {
   "cell_type": "code",
   "execution_count": null,
   "id": "0c1c320b-a71a-414c-a4cb-790a8b7c68dd",
   "metadata": {},
   "outputs": [],
   "source": []
  }
 ],
 "metadata": {
  "kernelspec": {
   "display_name": "Python 3 (ipykernel)",
   "language": "python",
   "name": "python3"
  },
  "language_info": {
   "codemirror_mode": {
    "name": "ipython",
    "version": 3
   },
   "file_extension": ".py",
   "mimetype": "text/x-python",
   "name": "python",
   "nbconvert_exporter": "python",
   "pygments_lexer": "ipython3",
   "version": "3.9.20"
  }
 },
 "nbformat": 4,
 "nbformat_minor": 5
}
