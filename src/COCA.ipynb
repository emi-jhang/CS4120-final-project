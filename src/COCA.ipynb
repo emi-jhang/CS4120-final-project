{
 "cells": [
  {
   "cell_type": "code",
   "execution_count": 1,
   "id": "5ac0366b-8ff4-4b97-bb93-49cac6cd0cdf",
   "metadata": {},
   "outputs": [],
   "source": [
    "# Imports\n",
    "\n",
    "import pandas as pd \n",
    "import numpy as np"
   ]
  },
  {
   "cell_type": "code",
   "execution_count": 7,
   "id": "6081068f-b111-46db-9ed0-c78532ba2f09",
   "metadata": {},
   "outputs": [],
   "source": [
    "coca_tokens = pd.read_csv('../COCA/COCA_tokens.csv')\n",
    "coca_df = pd.read_csv('../COCA/COCA.csv')"
   ]
  },
  {
   "cell_type": "code",
   "execution_count": 8,
   "id": "f0946ec7-7b82-4185-8271-6f89dea44f57",
   "metadata": {},
   "outputs": [
    {
     "name": "stdout",
     "output_type": "stream",
     "text": [
      "Coca tokens\n",
      "(18900, 6)\n",
      "   Token           DocuScope Category   Count  Document Count  \\\n",
      "0     or  ReaderDirectedMetadiscourse  431525           40847   \n",
      "1  , but  ReaderDirectedMetadiscourse  282210           38696   \n",
      "\n",
      "   Frequency (per mil. tokens)  % of Documents  \n",
      "0                      2425.94           95.62  \n",
      "1                      1586.52           90.58  \n",
      "<class 'pandas.core.frame.DataFrame'>\n",
      "RangeIndex: 18900 entries, 0 to 18899\n",
      "Data columns (total 6 columns):\n",
      " #   Column                       Non-Null Count  Dtype  \n",
      "---  ------                       --------------  -----  \n",
      " 0   Token                        18900 non-null  object \n",
      " 1   DocuScope Category           18900 non-null  object \n",
      " 2   Count                        18900 non-null  int64  \n",
      " 3   Document Count               18900 non-null  int64  \n",
      " 4   Frequency (per mil. tokens)  18900 non-null  float64\n",
      " 5   % of Documents               18900 non-null  float64\n",
      "dtypes: float64(2), int64(2), object(2)\n",
      "memory usage: 886.1+ KB\n",
      "None\n",
      "Coca\n",
      "(42720, 21)\n",
      "   text_id text_type   sub_type  year  word_count  Character Types  \\\n",
      "0  4009065      ACAD  Education  1990         904            5.502   \n",
      "1  4010440      ACAD  Education  1990        3990            0.728   \n",
      "\n",
      "   Citation Authority  Citation Controversy  Citation Hedged  \\\n",
      "0               0.290                 0.000            0.097   \n",
      "1               0.104                 0.166            0.021   \n",
      "\n",
      "   Citation Neutral  ...  Confidence High  Confidence Low  Expert Vocabulary  \\\n",
      "0             0.097  ...            0.193             0.0              6.274   \n",
      "1             0.021  ...            0.291             0.0              9.386   \n",
      "\n",
      "   Information Comparison  Information Quantities  Methods Results Discussion  \\\n",
      "0                   0.579                   0.483                       0.193   \n",
      "1                   1.165                   2.248                       0.562   \n",
      "\n",
      "   Purpose Plan  Reader Directed Metadiscourse  \\\n",
      "0         0.193                          1.351   \n",
      "1         0.541                          1.665   \n",
      "\n",
      "   Reader Directed Metadiscourse FP  Reasoning  \n",
      "0                               0.0      0.965  \n",
      "1                               0.0      2.976  \n",
      "\n",
      "[2 rows x 21 columns]\n",
      "<class 'pandas.core.frame.DataFrame'>\n",
      "RangeIndex: 42720 entries, 0 to 42719\n",
      "Data columns (total 21 columns):\n",
      " #   Column                            Non-Null Count  Dtype  \n",
      "---  ------                            --------------  -----  \n",
      " 0   text_id                           42720 non-null  int64  \n",
      " 1   text_type                         42720 non-null  object \n",
      " 2   sub_type                          42543 non-null  object \n",
      " 3   year                              42720 non-null  int64  \n",
      " 4   word_count                        42720 non-null  int64  \n",
      " 5   Character Types                   42720 non-null  float64\n",
      " 6   Citation Authority                42720 non-null  float64\n",
      " 7   Citation Controversy              42720 non-null  float64\n",
      " 8   Citation Hedged                   42720 non-null  float64\n",
      " 9   Citation Neutral                  42720 non-null  float64\n",
      " 10  Confidence Hedged                 42720 non-null  float64\n",
      " 11  Confidence High                   42720 non-null  float64\n",
      " 12  Confidence Low                    42720 non-null  float64\n",
      " 13  Expert Vocabulary                 42720 non-null  float64\n",
      " 14  Information Comparison            42720 non-null  float64\n",
      " 15  Information Quantities            42720 non-null  float64\n",
      " 16  Methods Results Discussion        42720 non-null  float64\n",
      " 17  Purpose Plan                      42720 non-null  float64\n",
      " 18  Reader Directed Metadiscourse     42720 non-null  float64\n",
      " 19  Reader Directed Metadiscourse FP  42720 non-null  float64\n",
      " 20  Reasoning                         42720 non-null  float64\n",
      "dtypes: float64(16), int64(3), object(2)\n",
      "memory usage: 6.8+ MB\n",
      "None\n"
     ]
    }
   ],
   "source": [
    "# TODO: \n",
    "# Clean Data\n",
    "# Get dimensions, summary, etc. of data\n",
    "\n",
    "print(\"Coca tokens\")\n",
    "print(coca_tokens.shape)\n",
    "print(coca_tokens.head(2))\n",
    "print(coca_tokens.info())\n",
    "\n",
    "print(\"Coca\")\n",
    "print(coca_df.shape)\n",
    "print(coca_df.head(2))\n",
    "print(coca_df.info())"
   ]
  },
  {
   "cell_type": "code",
   "execution_count": 15,
   "id": "4628d300-2d25-47dd-b57d-5a529e232880",
   "metadata": {},
   "outputs": [
    {
     "name": "stdout",
     "output_type": "stream",
     "text": [
      "         Token   Count\n",
      "0               696420\n",
      "2148       but  437454\n",
      "10656       or  433788\n",
      "684        and  239179\n",
      "11006   people  207502\n",
      "13250       so  163166\n",
      "9750      more  150501\n",
      "1740   because  140879\n",
      "15683      two  124511\n",
      "535       also  124142\n"
     ]
    }
   ],
   "source": [
    "# Convert words to lowercase for uniformity\n",
    "coca_tokens['Token'] = coca_tokens['Token'].str.lower()\n",
    "\n",
    "# Remove any non-alphabetic characters (if necessary)\n",
    "coca_tokens['Token'] = coca_tokens['Token'].str.replace(r'[^a-zA-Z]', '', regex=True)\n",
    "\n",
    "# Aggregate the frequency of each word (if there are multiple entries for the same word)\n",
    "word_freq = coca_tokens.groupby('Token')['Count'].sum().reset_index()\n",
    "\n",
    "# Sort the words by frequency in descending order\n",
    "word_freq_sorted = word_freq.sort_values(by='Count', ascending=False)\n",
    "\n",
    "# Display the top 10 most frequent words\n",
    "print(word_freq_sorted.head(10))\n"
   ]
  },
  {
   "cell_type": "code",
   "execution_count": null,
   "id": "1267e68f-a528-460f-97bd-4e4325bf6fe4",
   "metadata": {},
   "outputs": [],
   "source": []
  }
 ],
 "metadata": {
  "kernelspec": {
   "display_name": "Python 3 (ipykernel)",
   "language": "python",
   "name": "python3"
  },
  "language_info": {
   "codemirror_mode": {
    "name": "ipython",
    "version": 3
   },
   "file_extension": ".py",
   "mimetype": "text/x-python",
   "name": "python",
   "nbconvert_exporter": "python",
   "pygments_lexer": "ipython3",
   "version": "3.11.5"
  }
 },
 "nbformat": 4,
 "nbformat_minor": 5
}
