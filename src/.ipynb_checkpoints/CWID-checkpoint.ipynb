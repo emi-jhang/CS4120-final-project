{
 "cells": [
  {
   "cell_type": "code",
   "execution_count": 1,
   "id": "cbd3aa2d-909a-48d2-ad24-aa576aa496da",
   "metadata": {},
   "outputs": [],
   "source": [
    "# Imports\n",
    "\n",
    "import pandas as pd \n",
    "import numpy as np"
   ]
  },
  {
   "cell_type": "markdown",
   "id": "41e7209a-1c78-43a4-8901-9fb4a773a0fa",
   "metadata": {},
   "source": [
    "## Loading in Data"
   ]
  },
  {
   "cell_type": "markdown",
   "id": "305e9955-eed0-4709-8250-8fa24ec06147",
   "metadata": {},
   "source": [
    "https://www.inf.uni-hamburg.de/en/inst/ab/lt/resources/data/complex-word-identification-dataset.html"
   ]
  },
  {
   "cell_type": "markdown",
   "id": "4fa27143-2ccb-40dd-91fb-f05b4a0c4ee8",
   "metadata": {},
   "source": [
    "#### Explanation of data from Dataset Website (https://sites.google.com/view/cwisharedtask2018/datasets): \n",
    "\n",
    "Each line represents a sentence with one complex word annotation and relevant information, each separated by a TAB character.\n",
    "\n",
    "    The first column shows the HIT ID of the sentence. All sentences with the same ID belong to the same HIT.\n",
    "    The second column shows the actual sentence where there exists a complex phrase annotation.\n",
    "    The third and fourth columns display the start and end offsets of the target word in this sentence.\n",
    "    The fifth column represents the target word.\n",
    "    The sixth and seventh columns show the number of native annotators and the number of non-native annotators who saw the sentence.\n",
    "    The eighth and ninth columns show the number of native annotators and the number of non-native annotators who marked the target word as difficult.\n",
    "    The tenth and eleventh columns show the gold-standard label for the binary and probabilistic classification tasks.\n",
    "\n",
    "The labels in the binary classification task were assigned in the following manner:\n",
    "\n",
    "    0: simple word (none of the annotators marked the word as difficult)\n",
    "    1: complex word (at least one annotator marked the word as difficult)\n",
    "\n",
    "The labels in the probabilistic classification task were assigned as the \\<number of annotators who marked the word as difficult\\>/\\<the total number of annotators\\>"
   ]
  },
  {
   "cell_type": "code",
   "execution_count": 2,
   "id": "e3c64952-b181-4c80-99a9-008dc459f96e",
   "metadata": {},
   "outputs": [],
   "source": [
    "wikipedia_train = pd.read_csv('../CWID_train/Wikipedia_Train.csv')\n",
    "wikipedia_dev = pd.read_csv('../CWID_train/Wikipedia_Dev.csv')\n",
    "wikipedia_test = pd.read_csv('../CWID_test/Wikipedia_Test.csv')\n",
    "news_train = pd.read_csv('../CWID_train/News_Train.csv')\n",
    "news_dev = pd.read_csv('../CWID_train/News_Dev.csv')\n",
    "news_test = pd.read_csv('../CWID_test/News_Test.csv')"
   ]
  },
  {
   "cell_type": "markdown",
   "id": "4b57fb31-76bd-42d8-b5b1-5873779ec4ee",
   "metadata": {},
   "source": [
    "## Data Cleaning"
   ]
  },
  {
   "cell_type": "code",
   "execution_count": 4,
   "id": "a00ccf1f-1761-4d26-bd48-485de7356c0d",
   "metadata": {},
   "outputs": [],
   "source": [
    "# TODO: \n",
    "# Clean Data\n",
    "# Get dimensions, summary, etc. of data"
   ]
  },
  {
   "cell_type": "code",
   "execution_count": null,
   "id": "169e22b3-be87-45c9-8a80-03273f8a470e",
   "metadata": {},
   "outputs": [],
   "source": []
  }
 ],
 "metadata": {
  "kernelspec": {
   "display_name": "Python 3 (ipykernel)",
   "language": "python",
   "name": "python3"
  },
  "language_info": {
   "codemirror_mode": {
    "name": "ipython",
    "version": 3
   },
   "file_extension": ".py",
   "mimetype": "text/x-python",
   "name": "python",
   "nbconvert_exporter": "python",
   "pygments_lexer": "ipython3",
   "version": "3.11.5"
  }
 },
 "nbformat": 4,
 "nbformat_minor": 5
}
