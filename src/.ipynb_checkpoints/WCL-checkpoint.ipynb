{
 "cells": [
  {
   "cell_type": "code",
   "execution_count": 8,
   "id": "445de4ff-1e31-4462-9e5d-9c3e8b6abf39",
   "metadata": {},
   "outputs": [
    {
     "name": "stderr",
     "output_type": "stream",
     "text": [
      "[nltk_data] Downloading package punkt to /Users/oliviagao/nltk_data...\n",
      "[nltk_data]   Package punkt is already up-to-date!\n"
     ]
    }
   ],
   "source": [
    "# Imports\n",
    "\n",
    "import pandas as pd \n",
    "import numpy as np\n",
    "from sklearn.model_selection import train_test_split\n",
    "import nltk\n",
    "nltk.download('punkt')\n",
    "from nltk.tokenize import word_tokenize\n",
    "# Download required NLTK data files\n",
    "from nltk.corpus import wordnet\n",
    "\n",
    "# Initialize SpaCy for tokenization and part of speech tagging\n",
    "import spacy\n",
    "nlp = spacy.load(\"en_core_web_sm\")"
   ]
  },
  {
   "cell_type": "markdown",
   "id": "aba420a7-c04f-4e58-89b3-328e44dd9f02",
   "metadata": {},
   "source": [
    "## Loading in Data"
   ]
  },
  {
   "cell_type": "markdown",
   "id": "93f95b9a-60fd-4ed2-8da1-69c75a2f75b9",
   "metadata": {},
   "source": [
    "Data Description from Github:\n",
    "_______________________\n",
    "\n",
    "Word Complexity Lexicon (https://github.com/mounicam/lexical_simplification/tree/master/word_complexity_lexicon)\n",
    "_______________________\n",
    "\n",
    "\n",
    "lexicon.tsv : Each line consists of word and its complexity scores calculated by aggregating over human ratings. \n",
    "              The score belongs to a scale of 1-6, where 1 represents \"very simple\" and 6 represents \"very complex\"\n",
    "\n",
    "lexion_annotations.tsv: Each line consists of a word in the lexicon and its individual ratings from 11 annotators.\n",
    "                        Each rating again belongs to the scale of 1-6. -1 indicates that the annotator did not rate\n",
    "                        the word.\n",
    "                        \n",
    "NOTE: Both the files are tab delimited."
   ]
  },
  {
   "cell_type": "code",
   "execution_count": 2,
   "id": "a4c78895-1cf0-40ca-b74d-545ae0893d4d",
   "metadata": {},
   "outputs": [],
   "source": [
    "lexicon_data = pd.read_csv('../WCL_data/lexicon.csv')\n",
    "lexicon_ann = pd.read_csv('../WCL_data/lexicon_annotations.csv')"
   ]
  },
  {
   "cell_type": "markdown",
   "id": "16dfe4b0-b130-4ddb-afea-bc313d4242f1",
   "metadata": {},
   "source": [
    "## Data Cleaning"
   ]
  },
  {
   "cell_type": "code",
   "execution_count": 3,
   "id": "7a0871f9-bc15-4edd-9c5f-1337dd702f5b",
   "metadata": {},
   "outputs": [
    {
     "name": "stdout",
     "output_type": "stream",
     "text": [
      "Lexicon data\n",
      "(15180, 2)\n",
      "            word  rating\n",
      "0            wet  1.5714\n",
      "1          cargo  2.8571\n",
      "2        Arsenal  3.7143\n",
      "3  Manufacturing  3.8333\n",
      "4           East  1.2857\n",
      "Lexicon ann\n",
      "(15180, 12)\n",
      "            word  ann_1  ann_2  ann_3  ann_4  ann_5  ann_6  ann_7  ann_8  \\\n",
      "0            wet     -1      1      1     -1      1      1      2      3   \n",
      "1          cargo     -1     -1      2     -1      4      2      2      4   \n",
      "2        Arsenal      4     -1     -1      4      5     -1      4      3   \n",
      "3  Manufacturing     -1      4      4     -1     -1      3      4      4   \n",
      "4           East     -1      2      1      1      1     -1      1      2   \n",
      "\n",
      "   ann_9  ann_10  ann_11  \n",
      "0     -1       2      -1  \n",
      "1     -1       3       3  \n",
      "2      3      -1       3  \n",
      "3     -1       4      -1  \n",
      "4      1      -1      -1  \n"
     ]
    }
   ],
   "source": [
    "# TODO: \n",
    "# Clean Data\n",
    "# split into train and test\n",
    "# Get dimensions, summary, etc. of data\n",
    "print(\"Lexicon data\")\n",
    "print(lexicon_data.shape)\n",
    "print(lexicon_data.head())\n",
    "\n",
    "print(\"Lexicon ann\")\n",
    "print(lexicon_ann.shape)\n",
    "print(lexicon_ann.head())"
   ]
  },
  {
   "cell_type": "code",
   "execution_count": 4,
   "id": "2906a7f9-336c-41ad-b397-ee2c803ec8fc",
   "metadata": {},
   "outputs": [
    {
     "name": "stdout",
     "output_type": "stream",
     "text": [
      "[('wet', 1.5714), ('cargo', 2.8571), ('arsenal', 3.7143)]\n"
     ]
    }
   ],
   "source": [
    "complexity_dict = {\n",
    "    str(word).strip().lower(): rating\n",
    "    for word, rating in lexicon_data.set_index(\"word\")[\"rating\"].to_dict().items()\n",
    "    if pd.notnull(word)  # Check to ensure word is not NaN\n",
    "}\n",
    "print(list(complexity_dict.items())[:3])"
   ]
  },
  {
   "cell_type": "code",
   "execution_count": 5,
   "id": "b75f577e",
   "metadata": {},
   "outputs": [],
   "source": [
    "COMPLEXITY_THRESHOLD = 3\n",
    "\n",
    "def identify_complex_words(text):\n",
    "    words = word_tokenize(text)\n",
    "    complex_words = [word for word in words if complexity_dict.get(word.lower(), 0) >= COMPLEXITY_THRESHOLD]\n",
    "    return complex_words "
   ]
  },
  {
   "cell_type": "code",
   "execution_count": 11,
   "id": "3332aa00",
   "metadata": {},
   "outputs": [],
   "source": [
    "def is_complex(word, lexicon_data, threshold=COMPLEXITY_THRESHOLD):\n",
    "    \"\"\"Check if a word is complex based on the lexicon.\"\"\"\n",
    "    entry = lexicon_data[lexicon_data['word'] == word]\n",
    "    if not entry.empty:\n",
    "        rating = entry['rating'].values[0]\n",
    "        return rating >= threshold\n",
    "    return False\n",
    "\n",
    "def get_simpler_synonym(word, lexicon_data):\n",
    "    \"\"\"Find a simpler synonym using WordNet.\"\"\"\n",
    "    synonyms = wordnet.synsets(word)\n",
    "    simpler_candidates = []\n",
    "    \n",
    "    for syn in synonyms:\n",
    "        for lemma in syn.lemmas():\n",
    "            candidate = lemma.name().replace(\"_\", \" \")\n",
    "            if candidate != word and candidate in lexicon_data['word'].values:\n",
    "                candidate_score = lexicon_data.loc[lexicon_data['word'] == candidate, 'rating'].values[0]\n",
    "                if candidate_score < COMPLEXITY_THRESHOLD:\n",
    "                    simpler_candidates.append((candidate, candidate_score))\n",
    "    # Sort synonyms by complexity and return the simplest one\n",
    "    simpler_candidates = sorted(simpler_candidates, key=lambda x: x[1])\n",
    "    return simpler_candidates[0][0] if simpler_candidates else word\n",
    "\n",
    "def simplify_sentence(sentence, lexicon_data):\n",
    "    \"\"\"Simplify a sentence by replacing complex words with simpler synonyms.\"\"\"\n",
    "    doc = nlp(sentence)\n",
    "    simplified_sentence = []\n",
    "\n",
    "    for token in doc:\n",
    "        word = token.text.lower()\n",
    "        if is_complex(word, lexicon_data):\n",
    "            simple_word = get_simpler_synonym(word, lexicon_data)\n",
    "            simplified_sentence.append(simple_word)\n",
    "        else:\n",
    "            simplified_sentence.append(word)\n",
    "    \n",
    "    return \" \".join(simplified_sentence)"
   ]
  },
  {
   "cell_type": "code",
   "execution_count": 13,
   "id": "9416f89d-f000-4ddb-9ea4-6edfdaf66dad",
   "metadata": {},
   "outputs": [
    {
     "name": "stdout",
     "output_type": "stream",
     "text": [
      "['methodology', 'utilizes', 'techniques', 'comprehensive']\n",
      "Original Sentence: This methodology utilizes multifarious techniques for comprehensive analysis.\n",
      "Simplified Sentence: this methodology use multifarious techniques for comprehensive analysis .\n"
     ]
    }
   ],
   "source": [
    "# Test the simplification function\n",
    "sentence = \"This methodology utilizes multifarious techniques for comprehensive analysis.\"\n",
    "print(identify_complex_words(sentence))\n",
    "simplified_sentence = simplify_sentence(sentence, lexicon_data)\n",
    "print(\"Original Sentence:\", sentence)\n",
    "print(\"Simplified Sentence:\", simplified_sentence)"
   ]
  },
  {
   "cell_type": "code",
   "execution_count": null,
   "id": "f905549b-d251-4cc3-90a9-e5777fb61cac",
   "metadata": {},
   "outputs": [],
   "source": []
  }
 ],
 "metadata": {
  "kernelspec": {
   "display_name": "Python 3 (ipykernel)",
   "language": "python",
   "name": "python3"
  },
  "language_info": {
   "codemirror_mode": {
    "name": "ipython",
    "version": 3
   },
   "file_extension": ".py",
   "mimetype": "text/x-python",
   "name": "python",
   "nbconvert_exporter": "python",
   "pygments_lexer": "ipython3",
   "version": "3.9.20"
  }
 },
 "nbformat": 4,
 "nbformat_minor": 5
}
